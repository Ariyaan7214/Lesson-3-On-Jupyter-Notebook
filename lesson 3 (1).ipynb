{
 "cells": [
  {
   "cell_type": "code",
   "execution_count": 1,
   "id": "5546516b",
   "metadata": {},
   "outputs": [],
   "source": [
    "def multiplier(num1):\n",
    "    print(num1*num1)"
   ]
  },
  {
   "cell_type": "code",
   "execution_count": 2,
   "id": "bcce0049",
   "metadata": {},
   "outputs": [
    {
     "name": "stdout",
     "output_type": "stream",
     "text": [
      "16\n"
     ]
    }
   ],
   "source": [
    "multiplier(4)"
   ]
  },
  {
   "cell_type": "code",
   "execution_count": 3,
   "id": "29caa693",
   "metadata": {},
   "outputs": [],
   "source": [
    "x=lambda num1 : num1*num1"
   ]
  },
  {
   "cell_type": "code",
   "execution_count": 4,
   "id": "884ee075",
   "metadata": {},
   "outputs": [
    {
     "name": "stdout",
     "output_type": "stream",
     "text": [
      "16\n"
     ]
    }
   ],
   "source": [
    "x=lambda num1 : num1*num1\n",
    "print(x(4))"
   ]
  },
  {
   "cell_type": "code",
   "execution_count": 5,
   "id": "05ca9c8f",
   "metadata": {},
   "outputs": [],
   "source": [
    "add=lambda num1,num2 : num1+num2"
   ]
  },
  {
   "cell_type": "code",
   "execution_count": 6,
   "id": "43863884",
   "metadata": {},
   "outputs": [],
   "source": [
    "sub=lambda num1,num2 : num1-num2"
   ]
  },
  {
   "cell_type": "code",
   "execution_count": 7,
   "id": "64455273",
   "metadata": {},
   "outputs": [],
   "source": [
    "mod=lambda num1,num2 : num1%num2"
   ]
  },
  {
   "cell_type": "code",
   "execution_count": 8,
   "id": "520acf1f",
   "metadata": {},
   "outputs": [],
   "source": [
    "po=lambda num1,num2 : num1**num1"
   ]
  },
  {
   "cell_type": "code",
   "execution_count": 9,
   "id": "d45ed92b",
   "metadata": {},
   "outputs": [
    {
     "name": "stdout",
     "output_type": "stream",
     "text": [
      "10\n"
     ]
    }
   ],
   "source": [
    "add=lambda num1,num2 : num1+num2\n",
    "print(add(4,6))"
   ]
  },
  {
   "cell_type": "code",
   "execution_count": 10,
   "id": "a549ecd3",
   "metadata": {},
   "outputs": [
    {
     "name": "stdout",
     "output_type": "stream",
     "text": [
      "6\n"
     ]
    }
   ],
   "source": [
    "sub=lambda num1,num2 : num1-num2\n",
    "print(sub(13,7))"
   ]
  },
  {
   "cell_type": "code",
   "execution_count": 11,
   "id": "0a818b1d",
   "metadata": {},
   "outputs": [
    {
     "name": "stdout",
     "output_type": "stream",
     "text": [
      "9\n"
     ]
    }
   ],
   "source": [
    "mod=lambda num1,num2 : num1%num2\n",
    "print(mod(27,18))"
   ]
  },
  {
   "cell_type": "code",
   "execution_count": 13,
   "id": "26632cd7",
   "metadata": {},
   "outputs": [
    {
     "name": "stdout",
     "output_type": "stream",
     "text": [
      "4\n"
     ]
    }
   ],
   "source": [
    "po=lambda num1,num2 : num1**num1\n",
    "print(power(2,2))"
   ]
  },
  {
   "cell_type": "code",
   "execution_count": 21,
   "id": "31cfad82",
   "metadata": {},
   "outputs": [
    {
     "ename": "SyntaxError",
     "evalue": "cannot assign to literal (2677038956.py, line 2)",
     "output_type": "error",
     "traceback": [
      "\u001b[1;36m  File \u001b[1;32m\"C:\\Users\\Volkan\\AppData\\Local\\Temp\\ipykernel_19688\\2677038956.py\"\u001b[1;36m, line \u001b[1;32m2\u001b[0m\n\u001b[1;33m    1 , 2 , 3 , 4  = input(\"Enter four num: \").split()\u001b[0m\n\u001b[1;37m    ^\u001b[0m\n\u001b[1;31mSyntaxError\u001b[0m\u001b[1;31m:\u001b[0m cannot assign to literal\n"
     ]
    }
   ],
   "source": [
    "def average():\n",
    "    num1 , num2 , num3 , num4  = input(\"Enter four num: \").split()\n",
    "    moadel= num1+num2+num3+num4/4\n",
    "    print(moadel)\n",
    "    "
   ]
  },
  {
   "cell_type": "code",
   "execution_count": 20,
   "id": "c48d5ca5",
   "metadata": {},
   "outputs": [
    {
     "name": "stdout",
     "output_type": "stream",
     "text": [
      "Enter four num: 9 7 4 2\n"
     ]
    },
    {
     "ename": "TypeError",
     "evalue": "unsupported operand type(s) for /: 'str' and 'int'",
     "output_type": "error",
     "traceback": [
      "\u001b[1;31m---------------------------------------------------------------------------\u001b[0m",
      "\u001b[1;31mTypeError\u001b[0m                                 Traceback (most recent call last)",
      "\u001b[1;32m~\\AppData\\Local\\Temp\\ipykernel_19688\\1817697096.py\u001b[0m in \u001b[0;36m<module>\u001b[1;34m\u001b[0m\n\u001b[1;32m----> 1\u001b[1;33m \u001b[0maverage\u001b[0m\u001b[1;33m(\u001b[0m\u001b[1;33m)\u001b[0m\u001b[1;33m\u001b[0m\u001b[1;33m\u001b[0m\u001b[0m\n\u001b[0m",
      "\u001b[1;32m~\\AppData\\Local\\Temp\\ipykernel_19688\\1742083063.py\u001b[0m in \u001b[0;36maverage\u001b[1;34m()\u001b[0m\n\u001b[0;32m      1\u001b[0m \u001b[1;32mdef\u001b[0m \u001b[0maverage\u001b[0m\u001b[1;33m(\u001b[0m\u001b[1;33m)\u001b[0m\u001b[1;33m:\u001b[0m\u001b[1;33m\u001b[0m\u001b[1;33m\u001b[0m\u001b[0m\n\u001b[0;32m      2\u001b[0m     \u001b[0mnum1\u001b[0m \u001b[1;33m,\u001b[0m \u001b[0mnum2\u001b[0m \u001b[1;33m,\u001b[0m \u001b[0mnum3\u001b[0m \u001b[1;33m,\u001b[0m \u001b[0mnum4\u001b[0m  \u001b[1;33m=\u001b[0m \u001b[0minput\u001b[0m\u001b[1;33m(\u001b[0m\u001b[1;34m\"Enter four num: \"\u001b[0m\u001b[1;33m)\u001b[0m\u001b[1;33m.\u001b[0m\u001b[0msplit\u001b[0m\u001b[1;33m(\u001b[0m\u001b[1;33m)\u001b[0m\u001b[1;33m\u001b[0m\u001b[1;33m\u001b[0m\u001b[0m\n\u001b[1;32m----> 3\u001b[1;33m     \u001b[0mmoadel\u001b[0m\u001b[1;33m=\u001b[0m \u001b[0mnum1\u001b[0m\u001b[1;33m+\u001b[0m\u001b[0mnum2\u001b[0m\u001b[1;33m+\u001b[0m\u001b[0mnum3\u001b[0m\u001b[1;33m+\u001b[0m\u001b[0mnum4\u001b[0m\u001b[1;33m/\u001b[0m\u001b[1;36m4\u001b[0m\u001b[1;33m\u001b[0m\u001b[1;33m\u001b[0m\u001b[0m\n\u001b[0m\u001b[0;32m      4\u001b[0m     \u001b[0mprint\u001b[0m\u001b[1;33m(\u001b[0m\u001b[0mmoadel\u001b[0m\u001b[1;33m)\u001b[0m\u001b[1;33m\u001b[0m\u001b[1;33m\u001b[0m\u001b[0m\n\u001b[0;32m      5\u001b[0m \u001b[1;33m\u001b[0m\u001b[0m\n",
      "\u001b[1;31mTypeError\u001b[0m: unsupported operand type(s) for /: 'str' and 'int'"
     ]
    }
   ],
   "source": [
    "average()"
   ]
  },
  {
   "cell_type": "code",
   "execution_count": 30,
   "id": "340a46f0",
   "metadata": {},
   "outputs": [],
   "source": [
    "def ovenodd(num1):\n",
    "    if num1%2 == 0:\n",
    "        print(\"your number is even\")\n",
    "    else: \n",
    "        print(\"your number is odd\")"
   ]
  },
  {
   "cell_type": "code",
   "execution_count": 33,
   "id": "9bfb4a83",
   "metadata": {},
   "outputs": [
    {
     "name": "stdout",
     "output_type": "stream",
     "text": [
      "your number is odd\n"
     ]
    }
   ],
   "source": [
    "ovenodd(999999999999999999)"
   ]
  },
  {
   "cell_type": "code",
   "execution_count": 34,
   "id": "f9ee6247",
   "metadata": {},
   "outputs": [],
   "source": [
    "def miyangin():\n",
    "    num1  = int(input(\"Enter num1: \"))\n",
    "    num2  = int(input(\"Enter num1: \"))\n",
    "    num3  = int(input(\"Enter num1: \"))\n",
    "    num4  = int(input(\"Enter num1: \"))\n",
    "    return ((num1+num2+num3+num4)/4)"
   ]
  },
  {
   "cell_type": "code",
   "execution_count": 35,
   "id": "18b2e5d9",
   "metadata": {},
   "outputs": [
    {
     "name": "stdout",
     "output_type": "stream",
     "text": [
      "Enter num1: 8\n",
      "Enter num1: 5\n",
      "Enter num1: 4\n",
      "Enter num1: 6\n"
     ]
    },
    {
     "data": {
      "text/plain": [
       "5.75"
      ]
     },
     "execution_count": 35,
     "metadata": {},
     "output_type": "execute_result"
    }
   ],
   "source": [
    "miyangin()"
   ]
  },
  {
   "cell_type": "code",
   "execution_count": 37,
   "id": "b022be6b",
   "metadata": {},
   "outputs": [
    {
     "name": "stdout",
     "output_type": "stream",
     "text": [
      "The calendar of year 2023 is : \n",
      "                                  2023\n",
      "\n",
      "      January                   February                   March\n",
      "Mo Tu We Th Fr Sa Su      Mo Tu We Th Fr Sa Su      Mo Tu We Th Fr Sa Su\n",
      "                   1             1  2  3  4  5             1  2  3  4  5\n",
      " 2  3  4  5  6  7  8       6  7  8  9 10 11 12       6  7  8  9 10 11 12\n",
      " 9 10 11 12 13 14 15      13 14 15 16 17 18 19      13 14 15 16 17 18 19\n",
      "16 17 18 19 20 21 22      20 21 22 23 24 25 26      20 21 22 23 24 25 26\n",
      "23 24 25 26 27 28 29      27 28                     27 28 29 30 31\n",
      "30 31\n",
      "\n",
      "       April                      May                       June\n",
      "Mo Tu We Th Fr Sa Su      Mo Tu We Th Fr Sa Su      Mo Tu We Th Fr Sa Su\n",
      "                1  2       1  2  3  4  5  6  7                1  2  3  4\n",
      " 3  4  5  6  7  8  9       8  9 10 11 12 13 14       5  6  7  8  9 10 11\n",
      "10 11 12 13 14 15 16      15 16 17 18 19 20 21      12 13 14 15 16 17 18\n",
      "17 18 19 20 21 22 23      22 23 24 25 26 27 28      19 20 21 22 23 24 25\n",
      "24 25 26 27 28 29 30      29 30 31                  26 27 28 29 30\n",
      "\n",
      "        July                     August                  September\n",
      "Mo Tu We Th Fr Sa Su      Mo Tu We Th Fr Sa Su      Mo Tu We Th Fr Sa Su\n",
      "                1  2          1  2  3  4  5  6                   1  2  3\n",
      " 3  4  5  6  7  8  9       7  8  9 10 11 12 13       4  5  6  7  8  9 10\n",
      "10 11 12 13 14 15 16      14 15 16 17 18 19 20      11 12 13 14 15 16 17\n",
      "17 18 19 20 21 22 23      21 22 23 24 25 26 27      18 19 20 21 22 23 24\n",
      "24 25 26 27 28 29 30      28 29 30 31               25 26 27 28 29 30\n",
      "31\n",
      "\n",
      "      October                   November                  December\n",
      "Mo Tu We Th Fr Sa Su      Mo Tu We Th Fr Sa Su      Mo Tu We Th Fr Sa Su\n",
      "                   1             1  2  3  4  5                   1  2  3\n",
      " 2  3  4  5  6  7  8       6  7  8  9 10 11 12       4  5  6  7  8  9 10\n",
      " 9 10 11 12 13 14 15      13 14 15 16 17 18 19      11 12 13 14 15 16 17\n",
      "16 17 18 19 20 21 22      20 21 22 23 24 25 26      18 19 20 21 22 23 24\n",
      "23 24 25 26 27 28 29      27 28 29 30               25 26 27 28 29 30 31\n",
      "30 31\n",
      "\n"
     ]
    }
   ],
   "source": [
    "import calendar\n",
    "   \n",
    "# prints calendar of 2023\n",
    "print (\"The calendar of year 2023 is : \")\n",
    "print (calendar.calendar(2023))"
   ]
  },
  {
   "cell_type": "code",
   "execution_count": 38,
   "id": "e6dbcd1e",
   "metadata": {},
   "outputs": [
    {
     "name": "stdout",
     "output_type": "stream",
     "text": [
      "     June 2011\n",
      "Mo Tu We Th Fr Sa Su\n",
      "       1  2  3  4  5\n",
      " 6  7  8  9 10 11 12\n",
      "13 14 15 16 17 18 19\n",
      "20 21 22 23 24 25 26\n",
      "27 28 29 30\n",
      "\n"
     ]
    }
   ],
   "source": [
    "import calendar\n",
    "   \n",
    "year=2011\n",
    "month=6\n",
    "print(calendar.month(year,month))"
   ]
  },
  {
   "cell_type": "code",
   "execution_count": 39,
   "id": "ef8f5998",
   "metadata": {},
   "outputs": [
    {
     "name": "stdout",
     "output_type": "stream",
     "text": [
      "Monday Weekday Number: 0\n",
      "Tuesday Weekday Number: 1\n",
      "Wednesday Weekday Number: 2\n",
      "Thursday Weekday Number: 3\n",
      "Friday Weekday Number: 4\n",
      "Saturday Weekday Number: 5\n",
      "Sunday Weekday Number: 6\n"
     ]
    }
   ],
   "source": [
    "import calendar\n",
    "\n",
    "print(f'Monday Weekday Number: {calendar.MONDAY}')\n",
    "print(f'Tuesday Weekday Number: {calendar.TUESDAY}')\n",
    "print(f'Wednesday Weekday Number: {calendar.WEDNESDAY}')\n",
    "print(f'Thursday Weekday Number: {calendar.THURSDAY}')\n",
    "print(f'Friday Weekday Number: {calendar.FRIDAY}')\n",
    "print(f'Saturday Weekday Number: {calendar.SATURDAY}')\n",
    "print(f'Sunday Weekday Number: {calendar.SUNDAY}')"
   ]
  },
  {
   "cell_type": "code",
   "execution_count": 42,
   "id": "2660c114",
   "metadata": {},
   "outputs": [
    {
     "name": "stdout",
     "output_type": "stream",
     "text": [
      "30>>>29>>>28>>>27>>>26>>>25>>>24>>>23>>>22>>>21>>>20>>>19>>>18>>>17>>>16>>>15>>>14>>>13>>>12>>>11>>>10>>>9>>>8>>>7>>>6>>>5>>>4>>>3>>>2>>>1>>>Start\n"
     ]
    }
   ],
   "source": [
    "import time\n",
    " \n",
    "count_seconds = 31\n",
    "for i in reversed(range(count_seconds)):\n",
    "    if i > 0:\n",
    "        print(i, end='>>>')\n",
    "        time.sleep(1)\n",
    "    else:\n",
    "        print('Start')"
   ]
  },
  {
   "cell_type": "code",
   "execution_count": null,
   "id": "fba4eadc",
   "metadata": {},
   "outputs": [],
   "source": []
  }
 ],
 "metadata": {
  "kernelspec": {
   "display_name": "Python 3 (ipykernel)",
   "language": "python",
   "name": "python3"
  },
  "language_info": {
   "codemirror_mode": {
    "name": "ipython",
    "version": 3
   },
   "file_extension": ".py",
   "mimetype": "text/x-python",
   "name": "python",
   "nbconvert_exporter": "python",
   "pygments_lexer": "ipython3",
   "version": "3.9.13"
  }
 },
 "nbformat": 4,
 "nbformat_minor": 5
}
